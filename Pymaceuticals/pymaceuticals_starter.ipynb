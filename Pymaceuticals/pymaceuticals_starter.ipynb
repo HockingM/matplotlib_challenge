{
 "cells": [
  {
   "cell_type": "markdown",
   "metadata": {},
   "source": [
    "## Observations and Insights "
   ]
  },
  {
   "cell_type": "markdown",
   "metadata": {},
   "source": [
    "* Based on the data below, it is clear that Capomulin and Ramicane have both the strongest results in the study and also quite similar impacts on average tumor volumes.  Whilst both drug regimens have significantly higher treatment numbers than the remaining regimens (refer Bar and Pie Charts: Capomulin 230 and Ramican 228), average tumor volume (mm3) was noticably lower (refer Summary Statistics [mean] column).  Variability of the results for both drug regimens was also comparatively low, as shown in the Summary Statistics table [Std] column and the Final Tumor Volume Statistics table [Inter Quartile] column figures.  The strong and comparable results for both drugs, is best demonstrated in the boxplot below (refer \"Final Tumor Volume\")."
   ]
  },
  {
   "cell_type": "code",
   "execution_count": 1,
   "metadata": {},
   "outputs": [
    {
     "data": {
      "text/html": [
       "<div>\n",
       "<style scoped>\n",
       "    .dataframe tbody tr th:only-of-type {\n",
       "        vertical-align: middle;\n",
       "    }\n",
       "\n",
       "    .dataframe tbody tr th {\n",
       "        vertical-align: top;\n",
       "    }\n",
       "\n",
       "    .dataframe thead th {\n",
       "        text-align: right;\n",
       "    }\n",
       "</style>\n",
       "<table border=\"1\" class=\"dataframe\">\n",
       "  <thead>\n",
       "    <tr style=\"text-align: right;\">\n",
       "      <th></th>\n",
       "      <th>Mouse ID</th>\n",
       "      <th>Drug Regimen</th>\n",
       "      <th>Sex</th>\n",
       "      <th>Age_months</th>\n",
       "      <th>Weight (g)</th>\n",
       "      <th>Timepoint</th>\n",
       "      <th>Tumor Volume (mm3)</th>\n",
       "      <th>Metastatic Sites</th>\n",
       "    </tr>\n",
       "  </thead>\n",
       "  <tbody>\n",
       "    <tr>\n",
       "      <th>0</th>\n",
       "      <td>k403</td>\n",
       "      <td>Ramicane</td>\n",
       "      <td>Male</td>\n",
       "      <td>21</td>\n",
       "      <td>16</td>\n",
       "      <td>0</td>\n",
       "      <td>45.000000</td>\n",
       "      <td>0</td>\n",
       "    </tr>\n",
       "    <tr>\n",
       "      <th>1</th>\n",
       "      <td>k403</td>\n",
       "      <td>Ramicane</td>\n",
       "      <td>Male</td>\n",
       "      <td>21</td>\n",
       "      <td>16</td>\n",
       "      <td>5</td>\n",
       "      <td>38.825898</td>\n",
       "      <td>0</td>\n",
       "    </tr>\n",
       "    <tr>\n",
       "      <th>2</th>\n",
       "      <td>k403</td>\n",
       "      <td>Ramicane</td>\n",
       "      <td>Male</td>\n",
       "      <td>21</td>\n",
       "      <td>16</td>\n",
       "      <td>10</td>\n",
       "      <td>35.014271</td>\n",
       "      <td>1</td>\n",
       "    </tr>\n",
       "    <tr>\n",
       "      <th>3</th>\n",
       "      <td>k403</td>\n",
       "      <td>Ramicane</td>\n",
       "      <td>Male</td>\n",
       "      <td>21</td>\n",
       "      <td>16</td>\n",
       "      <td>15</td>\n",
       "      <td>34.223992</td>\n",
       "      <td>1</td>\n",
       "    </tr>\n",
       "    <tr>\n",
       "      <th>4</th>\n",
       "      <td>k403</td>\n",
       "      <td>Ramicane</td>\n",
       "      <td>Male</td>\n",
       "      <td>21</td>\n",
       "      <td>16</td>\n",
       "      <td>20</td>\n",
       "      <td>32.997729</td>\n",
       "      <td>1</td>\n",
       "    </tr>\n",
       "  </tbody>\n",
       "</table>\n",
       "</div>"
      ],
      "text/plain": [
       "  Mouse ID Drug Regimen   Sex  Age_months  Weight (g)  Timepoint  \\\n",
       "0     k403     Ramicane  Male          21          16          0   \n",
       "1     k403     Ramicane  Male          21          16          5   \n",
       "2     k403     Ramicane  Male          21          16         10   \n",
       "3     k403     Ramicane  Male          21          16         15   \n",
       "4     k403     Ramicane  Male          21          16         20   \n",
       "\n",
       "   Tumor Volume (mm3)  Metastatic Sites  \n",
       "0           45.000000                 0  \n",
       "1           38.825898                 0  \n",
       "2           35.014271                 1  \n",
       "3           34.223992                 1  \n",
       "4           32.997729                 1  "
      ]
     },
     "execution_count": 1,
     "metadata": {},
     "output_type": "execute_result"
    }
   ],
   "source": [
    "# Dependencies and Setup\n",
    "import matplotlib.pyplot as plt\n",
    "import pandas as pd\n",
    "import scipy.stats as st\n",
    "import numpy as np\n",
    "from scipy.stats import linregress\n",
    "\n",
    "\n",
    "# Study data files\n",
    "mouse_metadata_path = \"data/Mouse_metadata.csv\"\n",
    "study_results_path = \"data/Study_results.csv\"\n",
    "\n",
    "# Read the mouse data and the study results\n",
    "mouse_metadata = pd.read_csv(mouse_metadata_path)\n",
    "study_results = pd.read_csv(study_results_path)\n",
    "\n",
    "# Combine the data into a single dataset  \n",
    "all_results_df = pd.merge(mouse_metadata, study_results, how=\"outer\", on=[\"Mouse ID\", \"Mouse ID\"])\n",
    "\n",
    "\n",
    "# Display the data table for preview\n",
    "all_results_df.head()"
   ]
  },
  {
   "cell_type": "code",
   "execution_count": 2,
   "metadata": {},
   "outputs": [
    {
     "data": {
      "text/plain": [
       "1893"
      ]
     },
     "execution_count": 2,
     "metadata": {},
     "output_type": "execute_result"
    }
   ],
   "source": [
    "# Checking the number of mice\n",
    "all_results_df[\"Mouse ID\"].count()"
   ]
  },
  {
   "cell_type": "code",
   "execution_count": 3,
   "metadata": {},
   "outputs": [],
   "source": [
    "# Getting the duplicate mice by ID number that shows up for Mouse ID and Timepoint\n",
    "duplicate_rows = all_results_df[all_results_df.duplicated([\"Mouse ID\", \"Timepoint\"])]"
   ]
  },
  {
   "cell_type": "code",
   "execution_count": 4,
   "metadata": {},
   "outputs": [
    {
     "name": "stdout",
     "output_type": "stream",
     "text": [
      "    Mouse ID Drug Regimen     Sex  Age_months  Weight (g)  Timepoint  \\\n",
      "909     g989     Propriva  Female          21          26          0   \n",
      "911     g989     Propriva  Female          21          26          5   \n",
      "913     g989     Propriva  Female          21          26         10   \n",
      "915     g989     Propriva  Female          21          26         15   \n",
      "917     g989     Propriva  Female          21          26         20   \n",
      "\n",
      "     Tumor Volume (mm3)  Metastatic Sites  \n",
      "909           45.000000                 0  \n",
      "911           47.570392                 0  \n",
      "913           49.880528                 0  \n",
      "915           53.442020                 0  \n",
      "917           54.657650                 1  \n"
     ]
    }
   ],
   "source": [
    "# Optional: Get all the data for the duplicate mouse ID\n",
    "print(duplicate_rows)"
   ]
  },
  {
   "cell_type": "code",
   "execution_count": 5,
   "metadata": {},
   "outputs": [
    {
     "data": {
      "text/html": [
       "<div>\n",
       "<style scoped>\n",
       "    .dataframe tbody tr th:only-of-type {\n",
       "        vertical-align: middle;\n",
       "    }\n",
       "\n",
       "    .dataframe tbody tr th {\n",
       "        vertical-align: top;\n",
       "    }\n",
       "\n",
       "    .dataframe thead th {\n",
       "        text-align: right;\n",
       "    }\n",
       "</style>\n",
       "<table border=\"1\" class=\"dataframe\">\n",
       "  <thead>\n",
       "    <tr style=\"text-align: right;\">\n",
       "      <th></th>\n",
       "      <th>Mouse ID</th>\n",
       "      <th>Drug Regimen</th>\n",
       "      <th>Sex</th>\n",
       "      <th>Age_months</th>\n",
       "      <th>Weight (g)</th>\n",
       "      <th>Timepoint</th>\n",
       "      <th>Tumor Volume (mm3)</th>\n",
       "      <th>Metastatic Sites</th>\n",
       "    </tr>\n",
       "  </thead>\n",
       "  <tbody>\n",
       "    <tr>\n",
       "      <th>0</th>\n",
       "      <td>k403</td>\n",
       "      <td>Ramicane</td>\n",
       "      <td>Male</td>\n",
       "      <td>21</td>\n",
       "      <td>16</td>\n",
       "      <td>0</td>\n",
       "      <td>45.000000</td>\n",
       "      <td>0</td>\n",
       "    </tr>\n",
       "    <tr>\n",
       "      <th>1</th>\n",
       "      <td>k403</td>\n",
       "      <td>Ramicane</td>\n",
       "      <td>Male</td>\n",
       "      <td>21</td>\n",
       "      <td>16</td>\n",
       "      <td>5</td>\n",
       "      <td>38.825898</td>\n",
       "      <td>0</td>\n",
       "    </tr>\n",
       "    <tr>\n",
       "      <th>2</th>\n",
       "      <td>k403</td>\n",
       "      <td>Ramicane</td>\n",
       "      <td>Male</td>\n",
       "      <td>21</td>\n",
       "      <td>16</td>\n",
       "      <td>10</td>\n",
       "      <td>35.014271</td>\n",
       "      <td>1</td>\n",
       "    </tr>\n",
       "    <tr>\n",
       "      <th>3</th>\n",
       "      <td>k403</td>\n",
       "      <td>Ramicane</td>\n",
       "      <td>Male</td>\n",
       "      <td>21</td>\n",
       "      <td>16</td>\n",
       "      <td>15</td>\n",
       "      <td>34.223992</td>\n",
       "      <td>1</td>\n",
       "    </tr>\n",
       "    <tr>\n",
       "      <th>4</th>\n",
       "      <td>k403</td>\n",
       "      <td>Ramicane</td>\n",
       "      <td>Male</td>\n",
       "      <td>21</td>\n",
       "      <td>16</td>\n",
       "      <td>20</td>\n",
       "      <td>32.997729</td>\n",
       "      <td>1</td>\n",
       "    </tr>\n",
       "    <tr>\n",
       "      <th>...</th>\n",
       "      <td>...</td>\n",
       "      <td>...</td>\n",
       "      <td>...</td>\n",
       "      <td>...</td>\n",
       "      <td>...</td>\n",
       "      <td>...</td>\n",
       "      <td>...</td>\n",
       "      <td>...</td>\n",
       "    </tr>\n",
       "    <tr>\n",
       "      <th>1883</th>\n",
       "      <td>z969</td>\n",
       "      <td>Naftisol</td>\n",
       "      <td>Male</td>\n",
       "      <td>9</td>\n",
       "      <td>30</td>\n",
       "      <td>25</td>\n",
       "      <td>63.145652</td>\n",
       "      <td>2</td>\n",
       "    </tr>\n",
       "    <tr>\n",
       "      <th>1884</th>\n",
       "      <td>z969</td>\n",
       "      <td>Naftisol</td>\n",
       "      <td>Male</td>\n",
       "      <td>9</td>\n",
       "      <td>30</td>\n",
       "      <td>30</td>\n",
       "      <td>65.841013</td>\n",
       "      <td>3</td>\n",
       "    </tr>\n",
       "    <tr>\n",
       "      <th>1885</th>\n",
       "      <td>z969</td>\n",
       "      <td>Naftisol</td>\n",
       "      <td>Male</td>\n",
       "      <td>9</td>\n",
       "      <td>30</td>\n",
       "      <td>35</td>\n",
       "      <td>69.176246</td>\n",
       "      <td>4</td>\n",
       "    </tr>\n",
       "    <tr>\n",
       "      <th>1886</th>\n",
       "      <td>z969</td>\n",
       "      <td>Naftisol</td>\n",
       "      <td>Male</td>\n",
       "      <td>9</td>\n",
       "      <td>30</td>\n",
       "      <td>40</td>\n",
       "      <td>70.314904</td>\n",
       "      <td>4</td>\n",
       "    </tr>\n",
       "    <tr>\n",
       "      <th>1887</th>\n",
       "      <td>z969</td>\n",
       "      <td>Naftisol</td>\n",
       "      <td>Male</td>\n",
       "      <td>9</td>\n",
       "      <td>30</td>\n",
       "      <td>45</td>\n",
       "      <td>73.867845</td>\n",
       "      <td>4</td>\n",
       "    </tr>\n",
       "  </tbody>\n",
       "</table>\n",
       "<p>1888 rows × 8 columns</p>\n",
       "</div>"
      ],
      "text/plain": [
       "     Mouse ID Drug Regimen   Sex  Age_months  Weight (g)  Timepoint  \\\n",
       "0        k403     Ramicane  Male          21          16          0   \n",
       "1        k403     Ramicane  Male          21          16          5   \n",
       "2        k403     Ramicane  Male          21          16         10   \n",
       "3        k403     Ramicane  Male          21          16         15   \n",
       "4        k403     Ramicane  Male          21          16         20   \n",
       "...       ...          ...   ...         ...         ...        ...   \n",
       "1883     z969     Naftisol  Male           9          30         25   \n",
       "1884     z969     Naftisol  Male           9          30         30   \n",
       "1885     z969     Naftisol  Male           9          30         35   \n",
       "1886     z969     Naftisol  Male           9          30         40   \n",
       "1887     z969     Naftisol  Male           9          30         45   \n",
       "\n",
       "      Tumor Volume (mm3)  Metastatic Sites  \n",
       "0              45.000000                 0  \n",
       "1              38.825898                 0  \n",
       "2              35.014271                 1  \n",
       "3              34.223992                 1  \n",
       "4              32.997729                 1  \n",
       "...                  ...               ...  \n",
       "1883           63.145652                 2  \n",
       "1884           65.841013                 3  \n",
       "1885           69.176246                 4  \n",
       "1886           70.314904                 4  \n",
       "1887           73.867845                 4  \n",
       "\n",
       "[1888 rows x 8 columns]"
      ]
     },
     "execution_count": 5,
     "metadata": {},
     "output_type": "execute_result"
    }
   ],
   "source": [
    "# Create a clean DataFrame by dropping the duplicate mouse by its ID\n",
    "cleaned_results_df = all_results_df.drop_duplicates(subset=[\"Mouse ID\", \"Timepoint\"], keep=\"first\")\n",
    "cleaned_results_df = cleaned_results_df.reset_index()\n",
    "del cleaned_results_df[\"index\"]\n",
    "cleaned_results_df"
   ]
  },
  {
   "cell_type": "code",
   "execution_count": 6,
   "metadata": {},
   "outputs": [
    {
     "data": {
      "text/plain": [
       "1888"
      ]
     },
     "execution_count": 6,
     "metadata": {},
     "output_type": "execute_result"
    }
   ],
   "source": [
    "# Checking the number of mice in the clean DataFrame\n",
    "cleaned_results_df[\"Mouse ID\"].count()"
   ]
  },
  {
   "cell_type": "markdown",
   "metadata": {},
   "source": [
    "## Summary Statistics"
   ]
  },
  {
   "cell_type": "code",
   "execution_count": 7,
   "metadata": {},
   "outputs": [
    {
     "name": "stdout",
     "output_type": "stream",
     "text": [
      "               Mean Median Std Dev Variance   SEM\n",
      "Drug Regimen                                     \n",
      "Capomulin     40.68  41.56    4.99    24.95  0.33\n",
      "Ceftamin      52.59  51.78    6.27    39.29  0.47\n",
      "Infubinol     52.88  51.82    6.57    43.13  0.49\n",
      "Ketapril      55.24  53.70    8.28    68.55  0.60\n",
      "Naftisol      54.33  52.51    8.13    66.17  0.60\n",
      "Placebo       54.03  52.29    7.82    61.17  0.58\n",
      "Propriva      52.39  50.91    6.57    43.14  0.53\n",
      "Ramicane      40.22  40.67    4.85    23.49  0.32\n",
      "Stelasyn      54.23  52.43    7.71    59.45  0.57\n",
      "Zoniferol     53.24  51.82    6.97    48.53  0.52\n"
     ]
    },
    {
     "data": {
      "text/plain": [
       "pandas.core.frame.DataFrame"
      ]
     },
     "execution_count": 7,
     "metadata": {},
     "output_type": "execute_result"
    }
   ],
   "source": [
    "# Generate a summary statistics table of mean, median, variance, standard deviation, and SEM of the tumor volume for each regimen\n",
    "\n",
    "# This method is the most straighforward, creating multiple series and putting them all together at the end.\n",
    "\n",
    "means = cleaned_results_df.groupby([\"Drug Regimen\"])[\"Tumor Volume (mm3)\"].mean()\n",
    "medians = cleaned_results_df.groupby([\"Drug Regimen\"])[\"Tumor Volume (mm3)\"].median()\n",
    "stds = cleaned_results_df.groupby([\"Drug Regimen\"])[\"Tumor Volume (mm3)\"].std()\n",
    "vars = cleaned_results_df.groupby([\"Drug Regimen\"])[\"Tumor Volume (mm3)\"].var()\n",
    "sems = cleaned_results_df.groupby([\"Drug Regimen\"])[\"Tumor Volume (mm3)\"].sem()\n",
    "\n",
    "frame = {'Mean': means, 'Median': medians, 'Std Dev': stds,'Variance': vars,'SEM': sems} \n",
    "summary = pd.DataFrame(frame) \n",
    "\n",
    "# Reformat output for display\n",
    "summary['Mean'] = summary['Mean'].map(\"{:,.2f}\".format)\n",
    "summary['Median'] = summary['Median'].map(\"{:,.2f}\".format)\n",
    "summary['Std Dev'] = summary['Std Dev'].map(\"{:,.2f}\".format)\n",
    "summary['Variance'] = summary['Variance'].map(\"{:,.2f}\".format)\n",
    "summary['SEM'] = summary['SEM'].map(\"{:,.2f}\".format)\n",
    "\n",
    "print(summary)\n",
    "type(summary)\n"
   ]
  },
  {
   "cell_type": "markdown",
   "metadata": {},
   "source": [
    "***Ignored as confirmed that only require one summary and not summaries done 2 different ways"
   ]
  },
  {
   "cell_type": "code",
   "execution_count": 8,
   "metadata": {},
   "outputs": [],
   "source": [
    "# Generate a summary statistics table of mean, median, variance, standard deviation, and SEM of the tumor volume for each regimen\n",
    "\n",
    "# This method produces everything in a single groupby function\n"
   ]
  },
  {
   "cell_type": "markdown",
   "metadata": {},
   "source": [
    "## Bar and Pie Charts"
   ]
  },
  {
   "cell_type": "markdown",
   "metadata": {},
   "source": [
    "*** Treatment defined as a 'dose' rather than 'unique' mice to each drug regimen following discussion with my TA.  Code for unique in following markdown cell"
   ]
  },
  {
   "cell_type": "markdown",
   "metadata": {},
   "source": [
    "unique_mice = cleaned_results_df.groupby([\"Mouse ID\"]).max()\n",
    "mice_count = unique_mice[\"Drug Regimen\"].value_counts()\n",
    "\n",
    "mice_count.plot(kind=\"bar\", figsize=(7,5), title =\"Total Number of Mice per Treatment\" )\n",
    "plt.tight_layout()\n",
    "plt.show()"
   ]
  },
  {
   "cell_type": "code",
   "execution_count": 9,
   "metadata": {},
   "outputs": [
    {
     "data": {
      "image/png": "[encoded data removed]",
      "text/plain": [
       "<Figure size 504x360 with 1 Axes>"
      ]
     },
     "metadata": {
      "needs_background": "light"
     },
     "output_type": "display_data"
    }
   ],
   "source": [
    "# Generate a bar plot showing the total number of mice for each treatment throughout the course of the study using pandas. \n",
    "mice_count = cleaned_results_df.groupby([\"Drug Regimen\"])[\"Mouse ID\"].count()\n",
    "\n",
    "plt.ylabel(\"Number of Mice\")\n",
    "mice_count.plot(kind=\"bar\", figsize=(7,5), title =\"Total Number of Mice Treated\" )\n",
    "\n",
    "plt.tight_layout()\n",
    "plt.show()\n"
   ]
  },
  {
   "cell_type": "code",
   "execution_count": 10,
   "metadata": {},
   "outputs": [
    {
     "data": {
      "image/png": "[encoded data removed]",
      "text/plain": [
       "<Figure size 432x288 with 1 Axes>"
      ]
     },
     "metadata": {
      "needs_background": "light"
     },
     "output_type": "display_data"
    }
   ],
   "source": [
    "# Generate a bar plot showing the total number of mice for each treatment throughout the course of the study using pyplot.\n",
    "unique_regimens = cleaned_results_df[\"Drug Regimen\"].unique()\n",
    "x_axis = np.arange(len(unique_regimens))\n",
    "x_labels = [regimen for regimen in unique_regimens]\n",
    "\n",
    "y_axis = mice_count\n",
    "tick_locations = [value for value in x_axis]\n",
    "plt.xticks(tick_locations, x_labels,rotation = 'vertical')\n",
    "\n",
    "plt.bar(x_axis, y_axis, color='r', alpha=0.5, align=\"center\")\n",
    "plt.title(\"Total Number of Mice Treated\")\n",
    "plt.xlabel(\"Drug Regimen\")\n",
    "plt.ylabel(\"Number of Mice\")\n",
    "\n",
    "plt.tight_layout()\n",
    "plt.show()\n"
   ]
  },
  {
   "cell_type": "code",
   "execution_count": 11,
   "metadata": {},
   "outputs": [
    {
     "data": {
      "image/png": "[encoded data removed]",
      "text/plain": [
       "<Figure size 432x288 with 1 Axes>"
      ]
     },
     "metadata": {},
     "output_type": "display_data"
    }
   ],
   "source": [
    "# Generate a pie plot showing the distribution of female versus male mice using pandas\n",
    "gender_count = cleaned_results_df[\"Sex\"].value_counts()\n",
    "labels = gender_count.index\n",
    "\n",
    "sizes = [gender_count[0],gender_count[1]]\n",
    "\n",
    "colors = [\"lightskyblue\",\"pink\"]\n",
    "\n",
    "plt.pie(sizes, labels=labels, colors=colors,\n",
    "        autopct=\"%1.1f%%\", shadow=False, startangle=90)\n",
    "\n",
    "\n",
    "plt.title(\"Distribution of Male vs Female Mice\")\n",
    "plt.tight_layout()\n",
    "plt.show()\n"
   ]
  },
  {
   "cell_type": "code",
   "execution_count": 12,
   "metadata": {},
   "outputs": [
    {
     "data": {
      "image/png": "[encoded data removed]",
      "text/plain": [
       "<Figure size 360x360 with 1 Axes>"
      ]
     },
     "metadata": {},
     "output_type": "display_data"
    }
   ],
   "source": [
    "# Generate a pie plot showing the distribution of female versus male mice using pyplot\n",
    "color = ['b', 'm']\n",
    "\n",
    "gender_count.plot(kind=\"pie\", figsize=(5,5), colors=color, autopct='%1.1f%%', startangle=90, \n",
    "                  title=\"Distribution of Male vs Female Mice\")\n",
    "\n",
    "plt.tight_layout()\n",
    "plt.show()\n"
   ]
  },
  {
   "cell_type": "markdown",
   "metadata": {},
   "source": [
    "## Quartiles, Outliers and Boxplots"
   ]
  },
  {
   "cell_type": "code",
   "execution_count": 13,
   "metadata": {},
   "outputs": [],
   "source": [
    "# Calculate the final tumor volume of each mouse across four of the treatment regimens:  \n",
    "# Capomulin, Ramicane, Infubinol, and Ceftamin\n",
    "\n",
    "# Start by getting the last (greatest) timepoint for each mouse\n",
    "max_mouse = cleaned_results_df.groupby([\"Mouse ID\"])[\"Timepoint\"].max().reset_index()\n"
   ]
  },
  {
   "cell_type": "code",
   "execution_count": 14,
   "metadata": {},
   "outputs": [],
   "source": [
    "# Merge this group df with the original dataframe to get the tumor volume at the last timepoint\n",
    "merged_data_df = pd.merge(max_mouse,cleaned_results_df, on=[\"Mouse ID\",\"Timepoint\"],how=\"left\")\n"
   ]
  },
  {
   "cell_type": "code",
   "execution_count": 15,
   "metadata": {},
   "outputs": [],
   "source": [
    "# Put treatments into a list for for loop (and later for plot labels)\n",
    "treatments = [\"Capomulin\",\"Ramicane\",\"Infubinol\", \"Ceftamin\"]\n",
    "\n",
    "# Create empty list to fill with tumor vol data (for plotting)\n",
    "tumor_vols = []\n",
    "\n",
    "#Create dictionary to convert to dataframe for output\n",
    "output =[]"
   ]
  },
  {
   "cell_type": "code",
   "execution_count": 16,
   "metadata": {},
   "outputs": [
    {
     "name": "stdout",
     "output_type": "stream",
     "text": [
      "Infubinol had 1 outlier(s).  The tumor volume was 36.321345799999996\n",
      "\n",
      "\n",
      "\n",
      "Final Tumor Volume Statistics\n"
     ]
    },
    {
     "data": {
      "text/html": [
       "<div>\n",
       "<style scoped>\n",
       "    .dataframe tbody tr th:only-of-type {\n",
       "        vertical-align: middle;\n",
       "    }\n",
       "\n",
       "    .dataframe tbody tr th {\n",
       "        vertical-align: top;\n",
       "    }\n",
       "\n",
       "    .dataframe thead th {\n",
       "        text-align: right;\n",
       "    }\n",
       "</style>\n",
       "<table border=\"1\" class=\"dataframe\">\n",
       "  <thead>\n",
       "    <tr style=\"text-align: right;\">\n",
       "      <th></th>\n",
       "      <th>Treatment</th>\n",
       "      <th>Lower Quartile</th>\n",
       "      <th>Median</th>\n",
       "      <th>Upper Quartile</th>\n",
       "      <th>InterQuartile</th>\n",
       "      <th>Lower Bound</th>\n",
       "      <th>Upper Bound</th>\n",
       "      <th>No. of Outliers</th>\n",
       "    </tr>\n",
       "  </thead>\n",
       "  <tbody>\n",
       "    <tr>\n",
       "      <th>0</th>\n",
       "      <td>Capomulin</td>\n",
       "      <td>32.38</td>\n",
       "      <td>38.13</td>\n",
       "      <td>40.16</td>\n",
       "      <td>7.78</td>\n",
       "      <td>20.70</td>\n",
       "      <td>51.83</td>\n",
       "      <td>0</td>\n",
       "    </tr>\n",
       "    <tr>\n",
       "      <th>1</th>\n",
       "      <td>Ramicane</td>\n",
       "      <td>31.56</td>\n",
       "      <td>36.56</td>\n",
       "      <td>40.66</td>\n",
       "      <td>9.10</td>\n",
       "      <td>17.91</td>\n",
       "      <td>54.31</td>\n",
       "      <td>0</td>\n",
       "    </tr>\n",
       "    <tr>\n",
       "      <th>2</th>\n",
       "      <td>Infubinol</td>\n",
       "      <td>54.05</td>\n",
       "      <td>60.17</td>\n",
       "      <td>65.53</td>\n",
       "      <td>11.48</td>\n",
       "      <td>36.83</td>\n",
       "      <td>82.74</td>\n",
       "      <td>1</td>\n",
       "    </tr>\n",
       "    <tr>\n",
       "      <th>3</th>\n",
       "      <td>Ceftamin</td>\n",
       "      <td>48.72</td>\n",
       "      <td>59.85</td>\n",
       "      <td>64.30</td>\n",
       "      <td>15.58</td>\n",
       "      <td>25.36</td>\n",
       "      <td>87.67</td>\n",
       "      <td>0</td>\n",
       "    </tr>\n",
       "  </tbody>\n",
       "</table>\n",
       "</div>"
      ],
      "text/plain": [
       "   Treatment Lower Quartile Median Upper Quartile InterQuartile Lower Bound  \\\n",
       "0  Capomulin          32.38  38.13          40.16          7.78       20.70   \n",
       "1   Ramicane          31.56  36.56          40.66          9.10       17.91   \n",
       "2  Infubinol          54.05  60.17          65.53         11.48       36.83   \n",
       "3   Ceftamin          48.72  59.85          64.30         15.58       25.36   \n",
       "\n",
       "  Upper Bound  No. of Outliers  \n",
       "0       51.83                0  \n",
       "1       54.31                0  \n",
       "2       82.74                1  \n",
       "3       87.67                0  "
      ]
     },
     "execution_count": 16,
     "metadata": {},
     "output_type": "execute_result"
    }
   ],
   "source": [
    "# Calculate the IQR and quantitatively determine if there are any potential outliers. \n",
    "\n",
    "# Locate the rows which contain mice on each drug and get the tumor volumes\n",
    "for i in range (0, len(treatments)):\n",
    "    series = merged_data_df.loc[merged_data_df[\"Drug Regimen\"] == treatments[i],(\"Drug Regimen\",\"Tumor Volume (mm3)\")]\n",
    "\n",
    "    # Add subset \n",
    "    if i == 0:\n",
    "        tumor_vols = series\n",
    "    else:\n",
    "        tumor_vols = tumor_vols.append(series)\n",
    "     \n",
    "    # Determine outliers using upper and lower bounds\n",
    "    tumors = series[\"Tumor Volume (mm3)\"] \n",
    "    \n",
    "    quartiles = tumors.quantile([0.25,0.5,0.75])\n",
    "    lowerq = quartiles[0.25]\n",
    "    upperq = quartiles[0.75]\n",
    "    iqr = upperq-lowerq\n",
    "    lower_bound = lowerq - (1.5*iqr)\n",
    "    upper_bound = upperq + (1.5*iqr)\n",
    "    \n",
    "    outlier_count =  series.loc[(series[\"Tumor Volume (mm3)\"] > upper_bound)|\n",
    "                                (series[\"Tumor Volume (mm3)\"] < lower_bound)\n",
    "                               ][\"Tumor Volume (mm3)\"].count()\n",
    "    outlier_vol = series.loc[(series[\"Tumor Volume (mm3)\"] > upper_bound)|\n",
    "                                (series[\"Tumor Volume (mm3)\"] < lower_bound)\n",
    "                               ][\"Tumor Volume (mm3)\"].sum()\n",
    "   \n",
    "    # Update dictionary for output dataframe\n",
    "    output.append({\"Treatment\": treatments[i],\"Lower Quartile\":lowerq, \"Median\":quartiles[0.5], \"Upper Quartile\":upperq, \n",
    "               \"InterQuartile\":iqr, \"Lower Bound\":lower_bound, \"Upper Bound\":upper_bound, \"No. of Outliers\":outlier_count})  \n",
    "    \n",
    "    # Print outlier for regimen\n",
    "    if outlier_count >= 1:\n",
    "        print(f\"{treatments[i]} had {outlier_count} outlier(s).  The tumor volume was {outlier_vol}\")\n",
    "\n",
    "# Convert dictionary to dataframe and print\n",
    "output_df = pd.DataFrame(output)\n",
    "\n",
    "# Reformat output for display\n",
    "output_df['Lower Quartile'] = output_df['Lower Quartile'].map(\"{:,.2f}\".format)\n",
    "output_df['Median'] = output_df['Median'].map(\"{:,.2f}\".format)\n",
    "output_df['Upper Quartile'] = output_df['Upper Quartile'].map(\"{:,.2f}\".format)\n",
    "output_df['InterQuartile'] = output_df['InterQuartile'].map(\"{:,.2f}\".format)\n",
    "output_df['Lower Bound'] = output_df['Lower Bound'].map(\"{:,.2f}\".format)\n",
    "output_df['Upper Bound'] = output_df['Upper Bound'].map(\"{:,.2f}\".format)\n",
    "\n",
    "print(\"\\n\\n\\nFinal Tumor Volume Statistics\")\n",
    "output_df\n"
   ]
  },
  {
   "cell_type": "code",
   "execution_count": 17,
   "metadata": {},
   "outputs": [],
   "source": [
    "# Generate a box plot of the final tumor volume of each mouse across four regimens of interest\n",
    "# Capomulin, Ramicane, Infubinol, and Ceftamin\n",
    "\n",
    "# Create a series for each regimen for the boxplots\n",
    "Capomulin =  tumor_vols.loc[tumor_vols[\"Drug Regimen\"] == treatments[0],(\"Tumor Volume (mm3)\")]\n",
    "Ramicane =  tumor_vols.loc[tumor_vols[\"Drug Regimen\"] == treatments[1],(\"Tumor Volume (mm3)\")]\n",
    "Infubinol =  tumor_vols.loc[tumor_vols[\"Drug Regimen\"] == treatments[2],(\"Tumor Volume (mm3)\")]\n",
    "Ceftamin =  tumor_vols.loc[tumor_vols[\"Drug Regimen\"] == treatments[3],(\"Tumor Volume (mm3)\")]\n"
   ]
  },
  {
   "cell_type": "code",
   "execution_count": 18,
   "metadata": {},
   "outputs": [
    {
     "data": {
      "image/png": "[encoded data removed]",
      "text/plain": [
       "<Figure size 432x288 with 1 Axes>"
      ]
     },
     "metadata": {
      "needs_background": "light"
     },
     "output_type": "display_data"
    }
   ],
   "source": [
    "data = [Capomulin, Ramicane, Infubinol, Ceftamin]\n",
    "blue_square = dict(markerfacecolor='b', marker='s')\n",
    "fig1, ax1 = plt.subplots()\n",
    "\n",
    "ax1.set_title('Final Tumor Volume')\n",
    "ax1.boxplot(data, notch=True,labels = treatments, flierprops=blue_square)\n",
    "ax1.set_ylabel(\"Final tumor volume (mm)3\")\n",
    "\n",
    "plt.show()\n"
   ]
  },
  {
   "cell_type": "markdown",
   "metadata": {},
   "source": [
    "## Line and Scatter Plots"
   ]
  },
  {
   "cell_type": "markdown",
   "metadata": {},
   "source": [
    "\n"
   ]
  },
  {
   "cell_type": "code",
   "execution_count": 19,
   "metadata": {},
   "outputs": [],
   "source": [
    "# Generate a line plot of time point versus tumor volume for a mouse treated with Capomulin\n",
    "timepoint_df = cleaned_results_df.loc[cleaned_results_df[\"Mouse ID\"] ==\"s185\"]\n",
    "tumor_vol = timepoint_df[\"Tumor Volume (mm3)\"]\n",
    "timepoints = timepoint_df[\"Timepoint\"]"
   ]
  },
  {
   "cell_type": "code",
   "execution_count": 20,
   "metadata": {},
   "outputs": [
    {
     "data": {
      "image/png": "[encoded data removed]",
      "text/plain": [
       "<Figure size 432x288 with 1 Axes>"
      ]
     },
     "metadata": {
      "needs_background": "light"
     },
     "output_type": "display_data"
    }
   ],
   "source": [
    "plt.plot(timepoints, tumor_vol)\n",
    "\n",
    "plt.xlabel(\"Timepoints in Treatment\")\n",
    "plt.ylabel(\"Tumor Volume (mm3)\")\n",
    "plt.title(\"Tumor volume over Time for Mouse ID: s185 \\n(Drug Regimen: Capomulin)\")\n",
    "\n",
    "tick_locations = []\n",
    "for x in timepoints:\n",
    "    tick_locations.append(x)\n",
    "    \n",
    "plt.xticks(tick_locations, timepoints)\n",
    "\n",
    "xlim_max = timepoint_df[\"Timepoint\"].max()\n",
    "xlim_min = timepoint_df[\"Timepoint\"].min()\n",
    "plt.xlim(xlim_min,xlim_max)\n",
    "\n",
    "plt.show()\n"
   ]
  },
  {
   "cell_type": "code",
   "execution_count": 21,
   "metadata": {},
   "outputs": [
    {
     "data": {
      "image/png": "[encoded data removed]",
      "text/plain": [
       "<Figure size 432x288 with 1 Axes>"
      ]
     },
     "metadata": {
      "needs_background": "light"
     },
     "output_type": "display_data"
    }
   ],
   "source": [
    "# Generate a scatter plot of mouse weight versus average tumor volume for the Capomulin regimen\n",
    "columns = [\"Drug Regimen\",\"Mouse ID\",\"Weight (g)\",\"Tumor Volume (mm3)\"]\n",
    "data_df = cleaned_results_df.loc[:,columns]\n",
    "regimens_df = data_df.loc[cleaned_results_df[\"Drug Regimen\"] == \"Capomulin\"]\n",
    "\n",
    "weight = regimens_df.groupby([\"Mouse ID\"])[\"Weight (g)\"].mean()\n",
    "avg_tumor = regimens_df.groupby([\"Mouse ID\"])[\"Tumor Volume (mm3)\"].mean()\n",
    "\n",
    "x_limit = weight * 1.1\n",
    "y_limit = avg_tumor * 1.1\n",
    "\n",
    "plt.xlabel(\"Mouse Weight (g)\")\n",
    "plt.ylabel(\"Tumor Volume (mm3)\")\n",
    "plt.title(\"Capomulin Regime\\nMouse Weight vs Average Tumour Volume\")\n",
    "\n",
    "plt.scatter(weight, avg_tumor, marker=\"o\", facecolors=\"green\", edgecolors=\"black\",\n",
    "            s=avg_tumor, alpha=.75)\n",
    "\n",
    "plt.show()"
   ]
  },
  {
   "cell_type": "markdown",
   "metadata": {},
   "source": [
    "## Correlation and Regression"
   ]
  },
  {
   "cell_type": "code",
   "execution_count": 22,
   "metadata": {},
   "outputs": [
    {
     "data": {
      "image/png": "[encoded data removed]",
      "text/plain": [
       "<Figure size 432x288 with 1 Axes>"
      ]
     },
     "metadata": {
      "needs_background": "light"
     },
     "output_type": "display_data"
    }
   ],
   "source": [
    "# Calculate the correlation coefficient and linear regression model \n",
    "# for mouse weight and average tumor volume for the Capomulin regimen\n",
    "\n",
    "(slope, intercept, rvalue, pvalue, stderr) = linregress(weight, avg_tumor)\n",
    "regress_values = weight * slope + intercept\n",
    "line_eq = \"y = \" + str(round(slope,2)) + \"x + \" + str(round(intercept,2))\n",
    "\n",
    "plt.plot(weight,regress_values,\"r-\",color =\"blue\")\n",
    "\n",
    "plt.annotate(line_eq,(20,36),fontsize=15,color=\"blue\")\n",
    "plt.scatter(weight, avg_tumor, marker=\"o\", facecolors=\"green\", edgecolors=\"black\",\n",
    "            s=avg_tumor, alpha=.75)\n",
    "\n",
    "x_limit = weight * 1.1\n",
    "y_limit = avg_tumor * 1.1\n",
    "\n",
    "\n",
    "plt.xlabel(\"Mouse Weight (g)\")\n",
    "plt.ylabel(\"Tumor Volume (mm3)\")\n",
    "plt.title(\"Capomulin Regime\\nMouse Weight vs Average Tumour Volume\")\n",
    "plt.show()\n"
   ]
  },
  {
   "cell_type": "code",
   "execution_count": 23,
   "metadata": {},
   "outputs": [
    {
     "name": "stdout",
     "output_type": "stream",
     "text": [
      "The correlation between both factors is 0.84\n"
     ]
    }
   ],
   "source": [
    "correlation = st.pearsonr(weight,avg_tumor)\n",
    "print(f\"The correlation between both factors is {round(correlation[0],2)}\")"
   ]
  }
 ],
 "metadata": {
  "anaconda-cloud": {},
  "kernelspec": {
   "display_name": "Python [conda env:PythonData] *",
   "language": "python",
   "name": "conda-env-PythonData-py"
  },
  "language_info": {
   "codemirror_mode": {
    "name": "ipython",
    "version": 3
   },
   "file_extension": ".py",
   "mimetype": "text/x-python",
   "name": "python",
   "nbconvert_exporter": "python",
   "pygments_lexer": "ipython3",
   "version": "3.7.6"
  }
 },
 "nbformat": 4,
 "nbformat_minor": 2
}
